{
 "cells": [
  {
   "cell_type": "code",
   "execution_count": 1,
   "metadata": {
    "collapsed": true
   },
   "outputs": [],
   "source": [
    "iostat = open('./iostat.txt', 'r')\n",
    "result = open('.iostat_result.csv','w')\n",
    "for line in iostat:\n",
    "\tif 'avg-cpu' in line:\n",
    "\t\tl=next(iostat) \n",
    "\t\tx=l.split()\n",
    "\t\trow= \",\".join(map(str,x))\n",
    "\t\tresult.write(row)\n",
    "\t\tresult.write(\",\\n\")\n",
    "iostat.close()\n",
    "result.close()\n"
   ]
  },
  {
   "cell_type": "code",
   "execution_count": null,
   "metadata": {
    "collapsed": true
   },
   "outputs": [],
   "source": []
  }
 ],
 "metadata": {
  "kernelspec": {
   "display_name": "Python 3",
   "language": "python",
   "name": "python3"
  },
  "language_info": {
   "codemirror_mode": {
    "name": "ipython",
    "version": 3
   },
   "file_extension": ".py",
   "mimetype": "text/x-python",
   "name": "python",
   "nbconvert_exporter": "python",
   "pygments_lexer": "ipython3",
   "version": "3.5.1"
  }
 },
 "nbformat": 4,
 "nbformat_minor": 0
}
